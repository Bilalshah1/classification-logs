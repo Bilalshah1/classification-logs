{
 "cells": [
  {
   "cell_type": "code",
   "id": "a16137752ee2a11f",
   "metadata": {
    "ExecuteTime": {
     "end_time": "2025-05-31T09:55:39.302668Z",
     "start_time": "2025-05-31T09:55:36.589312Z"
    }
   },
   "source": [
    "import pandas as pd\n"
   ],
   "outputs": [],
   "execution_count": 1
  },
  {
   "cell_type": "code",
   "id": "23b488661526513",
   "metadata": {
    "ExecuteTime": {
     "end_time": "2025-05-31T09:55:39.366180Z",
     "start_time": "2025-05-31T09:55:39.321748Z"
    }
   },
   "source": [
    "df=pd.read_csv('dataset/synthetic_logs.csv')"
   ],
   "outputs": [],
   "execution_count": 2
  },
  {
   "cell_type": "code",
   "id": "4a1ed957d7e6375f",
   "metadata": {
    "ExecuteTime": {
     "end_time": "2025-05-31T09:56:20.608720Z",
     "start_time": "2025-05-31T09:55:42.139830Z"
    }
   },
   "source": [
    "from sentence_transformers import SentenceTransformer\n",
    "model = SentenceTransformer('all-MiniLM-L6-v2')"
   ],
   "outputs": [
    {
     "name": "stderr",
     "output_type": "stream",
     "text": [
      "C:\\Users\\Bilal Shah\\Desktop\\classification-logs\\.venv\\Lib\\site-packages\\tqdm\\auto.py:21: TqdmWarning: IProgress not found. Please update jupyter and ipywidgets. See https://ipywidgets.readthedocs.io/en/stable/user_install.html\n",
      "  from .autonotebook import tqdm as notebook_tqdm\n"
     ]
    }
   ],
   "execution_count": 3
  },
  {
   "cell_type": "code",
   "id": "97989ada892f02ef",
   "metadata": {
    "ExecuteTime": {
     "end_time": "2025-05-31T09:56:48.140889Z",
     "start_time": "2025-05-31T09:56:22.131305Z"
    }
   },
   "source": [
    "log_messages = df['log_message'].tolist()\n",
    "embeddings = model.encode(log_messages)"
   ],
   "outputs": [],
   "execution_count": 4
  },
  {
   "cell_type": "code",
   "id": "fa256091a781a926",
   "metadata": {
    "ExecuteTime": {
     "end_time": "2025-05-31T09:56:49.305546Z",
     "start_time": "2025-05-31T09:56:49.268319Z"
    }
   },
   "source": [
    "# Add embeddings as a new column\n",
    "df['embeddings'] = embeddings.tolist()\n"
   ],
   "outputs": [],
   "execution_count": 5
  },
  {
   "cell_type": "code",
   "id": "25bd1c17f709b69b",
   "metadata": {
    "ExecuteTime": {
     "end_time": "2025-05-31T09:56:53.312226Z",
     "start_time": "2025-05-31T09:56:51.936314Z"
    }
   },
   "source": [
    "from sklearn.cluster import DBSCAN\n",
    "dbscan=DBSCAN(eps=0.2, min_samples=1, metric='cosine')\n",
    "clusters=dbscan.fit_predict(embeddings)\n",
    "df['clusters']=clusters"
   ],
   "outputs": [],
   "execution_count": 6
  },
  {
   "cell_type": "code",
   "id": "bd6671dcaf8988a5",
   "metadata": {
    "ExecuteTime": {
     "end_time": "2025-05-31T09:56:54.956287Z",
     "start_time": "2025-05-31T09:56:54.950430Z"
    }
   },
   "source": [
    "import re\n",
    "\n",
    "def classify_with_regex(log_message):\n",
    "    regex_patterns = {\n",
    "        r\"User [User\\d]+ logged (in|out).*\" : \"User Action\",\n",
    "        r\"Backup (started|ended) at .*\" : \"System Notification\",\n",
    "        r\"Backup completed successfully.*\" : \"System Notification\",\n",
    "        r\"System updated to version .*\" : \"System Notification\",\n",
    "        r\"FILE .* uploaded successfully by user .*\" : \"System Notification\",\n",
    "        r\"DISK cleanup completed successfully.*\" : \"System Notification\",\n",
    "        r\"System reboot initiated by user .*\" : \"System Notification\",\n",
    "        r\"ACCOUNT with ID .* created by .*\" : \"User Action\"\n",
    "    }\n",
    "\n",
    "    for pattern, label in regex_patterns.items():\n",
    "        if re.search(pattern, log_message, re.IGNORECASE):\n",
    "            return label\n",
    "\n",
    "    return None"
   ],
   "outputs": [],
   "execution_count": 7
  },
  {
   "cell_type": "code",
   "id": "60d4ed1ba9eb0796",
   "metadata": {
    "ExecuteTime": {
     "end_time": "2025-05-31T09:56:59.174529Z",
     "start_time": "2025-05-31T09:56:59.131102Z"
    }
   },
   "source": "df['regex-label']=df['log_message'].apply(classify_with_regex)",
   "outputs": [],
   "execution_count": 8
  },
  {
   "metadata": {
    "ExecuteTime": {
     "end_time": "2025-05-31T09:57:01.939512Z",
     "start_time": "2025-05-31T09:57:01.926345Z"
    }
   },
   "cell_type": "code",
   "source": "df_non_regex=df[df['regex-label'].isnull()].copy()",
   "id": "5b91ff41bf50232c",
   "outputs": [],
   "execution_count": 9
  },
  {
   "metadata": {
    "ExecuteTime": {
     "end_time": "2025-05-31T09:57:05.002845Z",
     "start_time": "2025-05-31T09:57:04.984010Z"
    }
   },
   "cell_type": "code",
   "source": [
    "df_legacy = df_non_regex[df_non_regex.source==\"LegacyCRM\"]\n",
    "df_legacy"
   ],
   "id": "6efb49ff389671cb",
   "outputs": [
    {
     "data": {
      "text/plain": [
       "                timestamp     source  \\\n",
       "60    2025-10-06 16:55:23  LegacyCRM   \n",
       "255   2025-05-03 16:55:35  LegacyCRM   \n",
       "377   2025-06-24 12:16:29  LegacyCRM   \n",
       "1325  2025-04-17 07:33:44  LegacyCRM   \n",
       "1734  2025-04-30 07:47:30  LegacyCRM   \n",
       "1826  2025-01-23 10:33:36  LegacyCRM   \n",
       "2217  2025-05-12 09:46:54  LegacyCRM   \n",
       "\n",
       "                                            log_message         target_label  \\\n",
       "60    Lead conversion failed for prospect ID 7842 du...       Workflow Error   \n",
       "255   API endpoint 'getCustomerDetails' is deprecate...  Deprecation Warning   \n",
       "377   Customer follow-up process for lead ID 5621 fa...       Workflow Error   \n",
       "1325  Escalation rule execution failed for ticket ID...       Workflow Error   \n",
       "1734  The 'ExportToCSV' feature is outdated. Please ...  Deprecation Warning   \n",
       "1826  Support for legacy authentication methods will...  Deprecation Warning   \n",
       "2217  Task assignment for TeamID 3425 could not comp...       Workflow Error   \n",
       "\n",
       "     complexity                                         embeddings  clusters  \\\n",
       "60          llm  [-0.04226111248135567, 0.04626970738172531, -0...        24   \n",
       "255         llm  [-0.021058598533272743, -0.011281420476734638,...        48   \n",
       "377         llm  [-0.08893539756536484, -0.00770153570920229, -...        62   \n",
       "1325        llm  [-0.02439083717763424, 0.01563330739736557, -0...       105   \n",
       "1734        llm  [-0.038602638989686966, -0.06171542778611183, ...       118   \n",
       "1826        llm  [-0.0886654257774353, 0.0008167490595951676, -...       122   \n",
       "2217        llm  [-0.0633983165025711, -0.02702908031642437, -0...       133   \n",
       "\n",
       "     regex-label  \n",
       "60          None  \n",
       "255         None  \n",
       "377         None  \n",
       "1325        None  \n",
       "1734        None  \n",
       "1826        None  \n",
       "2217        None  "
      ],
      "text/html": [
       "<div>\n",
       "<style scoped>\n",
       "    .dataframe tbody tr th:only-of-type {\n",
       "        vertical-align: middle;\n",
       "    }\n",
       "\n",
       "    .dataframe tbody tr th {\n",
       "        vertical-align: top;\n",
       "    }\n",
       "\n",
       "    .dataframe thead th {\n",
       "        text-align: right;\n",
       "    }\n",
       "</style>\n",
       "<table border=\"1\" class=\"dataframe\">\n",
       "  <thead>\n",
       "    <tr style=\"text-align: right;\">\n",
       "      <th></th>\n",
       "      <th>timestamp</th>\n",
       "      <th>source</th>\n",
       "      <th>log_message</th>\n",
       "      <th>target_label</th>\n",
       "      <th>complexity</th>\n",
       "      <th>embeddings</th>\n",
       "      <th>clusters</th>\n",
       "      <th>regex-label</th>\n",
       "    </tr>\n",
       "  </thead>\n",
       "  <tbody>\n",
       "    <tr>\n",
       "      <th>60</th>\n",
       "      <td>2025-10-06 16:55:23</td>\n",
       "      <td>LegacyCRM</td>\n",
       "      <td>Lead conversion failed for prospect ID 7842 du...</td>\n",
       "      <td>Workflow Error</td>\n",
       "      <td>llm</td>\n",
       "      <td>[-0.04226111248135567, 0.04626970738172531, -0...</td>\n",
       "      <td>24</td>\n",
       "      <td>None</td>\n",
       "    </tr>\n",
       "    <tr>\n",
       "      <th>255</th>\n",
       "      <td>2025-05-03 16:55:35</td>\n",
       "      <td>LegacyCRM</td>\n",
       "      <td>API endpoint 'getCustomerDetails' is deprecate...</td>\n",
       "      <td>Deprecation Warning</td>\n",
       "      <td>llm</td>\n",
       "      <td>[-0.021058598533272743, -0.011281420476734638,...</td>\n",
       "      <td>48</td>\n",
       "      <td>None</td>\n",
       "    </tr>\n",
       "    <tr>\n",
       "      <th>377</th>\n",
       "      <td>2025-06-24 12:16:29</td>\n",
       "      <td>LegacyCRM</td>\n",
       "      <td>Customer follow-up process for lead ID 5621 fa...</td>\n",
       "      <td>Workflow Error</td>\n",
       "      <td>llm</td>\n",
       "      <td>[-0.08893539756536484, -0.00770153570920229, -...</td>\n",
       "      <td>62</td>\n",
       "      <td>None</td>\n",
       "    </tr>\n",
       "    <tr>\n",
       "      <th>1325</th>\n",
       "      <td>2025-04-17 07:33:44</td>\n",
       "      <td>LegacyCRM</td>\n",
       "      <td>Escalation rule execution failed for ticket ID...</td>\n",
       "      <td>Workflow Error</td>\n",
       "      <td>llm</td>\n",
       "      <td>[-0.02439083717763424, 0.01563330739736557, -0...</td>\n",
       "      <td>105</td>\n",
       "      <td>None</td>\n",
       "    </tr>\n",
       "    <tr>\n",
       "      <th>1734</th>\n",
       "      <td>2025-04-30 07:47:30</td>\n",
       "      <td>LegacyCRM</td>\n",
       "      <td>The 'ExportToCSV' feature is outdated. Please ...</td>\n",
       "      <td>Deprecation Warning</td>\n",
       "      <td>llm</td>\n",
       "      <td>[-0.038602638989686966, -0.06171542778611183, ...</td>\n",
       "      <td>118</td>\n",
       "      <td>None</td>\n",
       "    </tr>\n",
       "    <tr>\n",
       "      <th>1826</th>\n",
       "      <td>2025-01-23 10:33:36</td>\n",
       "      <td>LegacyCRM</td>\n",
       "      <td>Support for legacy authentication methods will...</td>\n",
       "      <td>Deprecation Warning</td>\n",
       "      <td>llm</td>\n",
       "      <td>[-0.0886654257774353, 0.0008167490595951676, -...</td>\n",
       "      <td>122</td>\n",
       "      <td>None</td>\n",
       "    </tr>\n",
       "    <tr>\n",
       "      <th>2217</th>\n",
       "      <td>2025-05-12 09:46:54</td>\n",
       "      <td>LegacyCRM</td>\n",
       "      <td>Task assignment for TeamID 3425 could not comp...</td>\n",
       "      <td>Workflow Error</td>\n",
       "      <td>llm</td>\n",
       "      <td>[-0.0633983165025711, -0.02702908031642437, -0...</td>\n",
       "      <td>133</td>\n",
       "      <td>None</td>\n",
       "    </tr>\n",
       "  </tbody>\n",
       "</table>\n",
       "</div>"
      ]
     },
     "execution_count": 10,
     "metadata": {},
     "output_type": "execute_result"
    }
   ],
   "execution_count": 10
  },
  {
   "metadata": {
    "ExecuteTime": {
     "end_time": "2025-05-31T09:57:08.553280Z",
     "start_time": "2025-05-31T09:57:08.534921Z"
    }
   },
   "cell_type": "code",
   "source": [
    "df_non_legacy = df_non_regex[df_non_regex.source!=\"LegacyCRM\"]\n",
    "df_non_legacy"
   ],
   "id": "954668456f57bc7d",
   "outputs": [
    {
     "data": {
      "text/plain": [
       "                timestamp           source  \\\n",
       "0     2025-06-27 07:20:25        ModernCRM   \n",
       "1         1/14/2025 23:07        ModernCRM   \n",
       "2          1/17/2025 1:29  AnalyticsEngine   \n",
       "3     2025-07-12 00:24:16         ModernHR   \n",
       "4     2025-06-02 18:25:23    BillingSystem   \n",
       "...                   ...              ...   \n",
       "2405  2025-08-13 07:29:25         ModernHR   \n",
       "2406       1/11/2025 5:32         ModernHR   \n",
       "2407  2025-08-03 03:07:47    ThirdPartyAPI   \n",
       "2408     11/11/2025 11:52    BillingSystem   \n",
       "2409     12/25/2025 13:21  AnalyticsEngine   \n",
       "\n",
       "                                            log_message    target_label  \\\n",
       "0     nova.osapi_compute.wsgi.server [req-b9718cd8-f...     HTTP Status   \n",
       "1        Email service experiencing issues with sending  Critical Error   \n",
       "2             Unauthorized access to data was attempted  Security Alert   \n",
       "3     nova.osapi_compute.wsgi.server [req-4895c258-b...     HTTP Status   \n",
       "4     nova.osapi_compute.wsgi.server [req-ee8bc8ba-9...     HTTP Status   \n",
       "...                                                 ...             ...   \n",
       "2405  nova.osapi_compute.wsgi.server [req-96c3ec98-2...     HTTP Status   \n",
       "2406  User 3844 account experienced multiple failed ...  Security Alert   \n",
       "2407  nova.metadata.wsgi.server [req-b6d4a270-accb-4...     HTTP Status   \n",
       "2408      Email service affected by failed transmission  Critical Error   \n",
       "2409  Repeated failed login attempts occurred for us...  Security Alert   \n",
       "\n",
       "     complexity                                         embeddings  clusters  \\\n",
       "0          bert  [-0.10293962061405182, 0.03354594111442566, -0...         0   \n",
       "1          bert  [0.008045717142522335, -0.0357392281293869, 0....         1   \n",
       "2          bert  [-0.009082237258553505, 0.130039244890213, -0....         2   \n",
       "3          bert  [-0.0975104570388794, 0.04911298677325249, -0....         0   \n",
       "4          bert  [-0.10468337684869766, 0.059260375797748566, -...         0   \n",
       "...         ...                                                ...       ...   \n",
       "2405       bert  [-0.1001005470752716, 0.05426649749279022, -0....         0   \n",
       "2406       bert  [0.07716462016105652, -0.013951756991446018, -...         7   \n",
       "2407       bert  [-0.04022269695997238, 0.04224354401230812, -0...         0   \n",
       "2408       bert  [-0.03603454679250717, 0.019608931615948677, 0...         1   \n",
       "2409       bert  [0.014574353583157063, 0.049118299037218094, -...         7   \n",
       "\n",
       "     regex-label  \n",
       "0           None  \n",
       "1           None  \n",
       "2           None  \n",
       "3           None  \n",
       "4           None  \n",
       "...          ...  \n",
       "2405        None  \n",
       "2406        None  \n",
       "2407        None  \n",
       "2408        None  \n",
       "2409        None  \n",
       "\n",
       "[1903 rows x 8 columns]"
      ],
      "text/html": [
       "<div>\n",
       "<style scoped>\n",
       "    .dataframe tbody tr th:only-of-type {\n",
       "        vertical-align: middle;\n",
       "    }\n",
       "\n",
       "    .dataframe tbody tr th {\n",
       "        vertical-align: top;\n",
       "    }\n",
       "\n",
       "    .dataframe thead th {\n",
       "        text-align: right;\n",
       "    }\n",
       "</style>\n",
       "<table border=\"1\" class=\"dataframe\">\n",
       "  <thead>\n",
       "    <tr style=\"text-align: right;\">\n",
       "      <th></th>\n",
       "      <th>timestamp</th>\n",
       "      <th>source</th>\n",
       "      <th>log_message</th>\n",
       "      <th>target_label</th>\n",
       "      <th>complexity</th>\n",
       "      <th>embeddings</th>\n",
       "      <th>clusters</th>\n",
       "      <th>regex-label</th>\n",
       "    </tr>\n",
       "  </thead>\n",
       "  <tbody>\n",
       "    <tr>\n",
       "      <th>0</th>\n",
       "      <td>2025-06-27 07:20:25</td>\n",
       "      <td>ModernCRM</td>\n",
       "      <td>nova.osapi_compute.wsgi.server [req-b9718cd8-f...</td>\n",
       "      <td>HTTP Status</td>\n",
       "      <td>bert</td>\n",
       "      <td>[-0.10293962061405182, 0.03354594111442566, -0...</td>\n",
       "      <td>0</td>\n",
       "      <td>None</td>\n",
       "    </tr>\n",
       "    <tr>\n",
       "      <th>1</th>\n",
       "      <td>1/14/2025 23:07</td>\n",
       "      <td>ModernCRM</td>\n",
       "      <td>Email service experiencing issues with sending</td>\n",
       "      <td>Critical Error</td>\n",
       "      <td>bert</td>\n",
       "      <td>[0.008045717142522335, -0.0357392281293869, 0....</td>\n",
       "      <td>1</td>\n",
       "      <td>None</td>\n",
       "    </tr>\n",
       "    <tr>\n",
       "      <th>2</th>\n",
       "      <td>1/17/2025 1:29</td>\n",
       "      <td>AnalyticsEngine</td>\n",
       "      <td>Unauthorized access to data was attempted</td>\n",
       "      <td>Security Alert</td>\n",
       "      <td>bert</td>\n",
       "      <td>[-0.009082237258553505, 0.130039244890213, -0....</td>\n",
       "      <td>2</td>\n",
       "      <td>None</td>\n",
       "    </tr>\n",
       "    <tr>\n",
       "      <th>3</th>\n",
       "      <td>2025-07-12 00:24:16</td>\n",
       "      <td>ModernHR</td>\n",
       "      <td>nova.osapi_compute.wsgi.server [req-4895c258-b...</td>\n",
       "      <td>HTTP Status</td>\n",
       "      <td>bert</td>\n",
       "      <td>[-0.0975104570388794, 0.04911298677325249, -0....</td>\n",
       "      <td>0</td>\n",
       "      <td>None</td>\n",
       "    </tr>\n",
       "    <tr>\n",
       "      <th>4</th>\n",
       "      <td>2025-06-02 18:25:23</td>\n",
       "      <td>BillingSystem</td>\n",
       "      <td>nova.osapi_compute.wsgi.server [req-ee8bc8ba-9...</td>\n",
       "      <td>HTTP Status</td>\n",
       "      <td>bert</td>\n",
       "      <td>[-0.10468337684869766, 0.059260375797748566, -...</td>\n",
       "      <td>0</td>\n",
       "      <td>None</td>\n",
       "    </tr>\n",
       "    <tr>\n",
       "      <th>...</th>\n",
       "      <td>...</td>\n",
       "      <td>...</td>\n",
       "      <td>...</td>\n",
       "      <td>...</td>\n",
       "      <td>...</td>\n",
       "      <td>...</td>\n",
       "      <td>...</td>\n",
       "      <td>...</td>\n",
       "    </tr>\n",
       "    <tr>\n",
       "      <th>2405</th>\n",
       "      <td>2025-08-13 07:29:25</td>\n",
       "      <td>ModernHR</td>\n",
       "      <td>nova.osapi_compute.wsgi.server [req-96c3ec98-2...</td>\n",
       "      <td>HTTP Status</td>\n",
       "      <td>bert</td>\n",
       "      <td>[-0.1001005470752716, 0.05426649749279022, -0....</td>\n",
       "      <td>0</td>\n",
       "      <td>None</td>\n",
       "    </tr>\n",
       "    <tr>\n",
       "      <th>2406</th>\n",
       "      <td>1/11/2025 5:32</td>\n",
       "      <td>ModernHR</td>\n",
       "      <td>User 3844 account experienced multiple failed ...</td>\n",
       "      <td>Security Alert</td>\n",
       "      <td>bert</td>\n",
       "      <td>[0.07716462016105652, -0.013951756991446018, -...</td>\n",
       "      <td>7</td>\n",
       "      <td>None</td>\n",
       "    </tr>\n",
       "    <tr>\n",
       "      <th>2407</th>\n",
       "      <td>2025-08-03 03:07:47</td>\n",
       "      <td>ThirdPartyAPI</td>\n",
       "      <td>nova.metadata.wsgi.server [req-b6d4a270-accb-4...</td>\n",
       "      <td>HTTP Status</td>\n",
       "      <td>bert</td>\n",
       "      <td>[-0.04022269695997238, 0.04224354401230812, -0...</td>\n",
       "      <td>0</td>\n",
       "      <td>None</td>\n",
       "    </tr>\n",
       "    <tr>\n",
       "      <th>2408</th>\n",
       "      <td>11/11/2025 11:52</td>\n",
       "      <td>BillingSystem</td>\n",
       "      <td>Email service affected by failed transmission</td>\n",
       "      <td>Critical Error</td>\n",
       "      <td>bert</td>\n",
       "      <td>[-0.03603454679250717, 0.019608931615948677, 0...</td>\n",
       "      <td>1</td>\n",
       "      <td>None</td>\n",
       "    </tr>\n",
       "    <tr>\n",
       "      <th>2409</th>\n",
       "      <td>12/25/2025 13:21</td>\n",
       "      <td>AnalyticsEngine</td>\n",
       "      <td>Repeated failed login attempts occurred for us...</td>\n",
       "      <td>Security Alert</td>\n",
       "      <td>bert</td>\n",
       "      <td>[0.014574353583157063, 0.049118299037218094, -...</td>\n",
       "      <td>7</td>\n",
       "      <td>None</td>\n",
       "    </tr>\n",
       "  </tbody>\n",
       "</table>\n",
       "<p>1903 rows × 8 columns</p>\n",
       "</div>"
      ]
     },
     "execution_count": 11,
     "metadata": {},
     "output_type": "execute_result"
    }
   ],
   "execution_count": 11
  },
  {
   "metadata": {
    "ExecuteTime": {
     "end_time": "2025-05-31T09:57:34.937919Z",
     "start_time": "2025-05-31T09:57:10.464004Z"
    }
   },
   "cell_type": "code",
   "source": "embeddings_filtered = model.encode(df_non_legacy['log_message'].tolist())",
   "id": "ecd46edc1d00294c",
   "outputs": [],
   "execution_count": 12
  },
  {
   "metadata": {
    "ExecuteTime": {
     "end_time": "2025-05-31T09:57:36.495743Z",
     "start_time": "2025-05-31T09:57:36.491853Z"
    }
   },
   "cell_type": "code",
   "source": [
    "X = embeddings_filtered\n",
    "y = df_non_legacy['target_label'].values"
   ],
   "id": "65c448f4ddd39e0c",
   "outputs": [],
   "execution_count": 13
  },
  {
   "metadata": {
    "ExecuteTime": {
     "end_time": "2025-05-31T09:57:37.944964Z",
     "start_time": "2025-05-31T09:57:37.866246Z"
    }
   },
   "cell_type": "code",
   "source": [
    "from sklearn.model_selection import train_test_split\n",
    "from sklearn.linear_model import LogisticRegression\n",
    "from sklearn.metrics import accuracy_score\n",
    "from sklearn.metrics import classification_report\n",
    "\n",
    "X_train, X_test, y_train, y_test = train_test_split(X, y, test_size=0.3, random_state=42)\n",
    "clf = LogisticRegression(max_iter=1000)\n",
    "clf.fit(X_train, y_train)\n",
    "y_pred = clf.predict(X_test)\n",
    "report = classification_report(y_test, y_pred)\n",
    "print(report)"
   ],
   "id": "955cb2c506edc9d8",
   "outputs": [
    {
     "name": "stdout",
     "output_type": "stream",
     "text": [
      "                precision    recall  f1-score   support\n",
      "\n",
      "Critical Error       0.91      1.00      0.95        48\n",
      "         Error       0.98      0.89      0.93        47\n",
      "   HTTP Status       1.00      1.00      1.00       304\n",
      "Resource Usage       1.00      1.00      1.00        49\n",
      "Security Alert       1.00      0.99      1.00       123\n",
      "\n",
      "      accuracy                           0.99       571\n",
      "     macro avg       0.98      0.98      0.98       571\n",
      "  weighted avg       0.99      0.99      0.99       571\n",
      "\n"
     ]
    }
   ],
   "execution_count": 14
  },
  {
   "metadata": {
    "ExecuteTime": {
     "end_time": "2025-05-31T09:57:39.351289Z",
     "start_time": "2025-05-31T09:57:39.343277Z"
    }
   },
   "cell_type": "code",
   "source": [
    "import joblib\n",
    "joblib.dump(clf, '../models/log_classifier.joblib')\n"
   ],
   "id": "1485e119f65909ce",
   "outputs": [
    {
     "data": {
      "text/plain": [
       "['../models/log_classifier.joblib']"
      ]
     },
     "execution_count": 15,
     "metadata": {},
     "output_type": "execute_result"
    }
   ],
   "execution_count": 15
  },
  {
   "metadata": {},
   "cell_type": "code",
   "outputs": [],
   "execution_count": null,
   "source": "",
   "id": "84e0f5268d24d366"
  }
 ],
 "metadata": {
  "kernelspec": {
   "display_name": "Python 3",
   "language": "python",
   "name": "python3"
  },
  "language_info": {
   "codemirror_mode": {
    "name": "ipython",
    "version": 2
   },
   "file_extension": ".py",
   "mimetype": "text/x-python",
   "name": "python",
   "nbconvert_exporter": "python",
   "pygments_lexer": "ipython2",
   "version": "2.7.6"
  }
 },
 "nbformat": 4,
 "nbformat_minor": 5
}
