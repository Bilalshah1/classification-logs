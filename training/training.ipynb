{
 "cells": [
  {
   "metadata": {
    "ExecuteTime": {
     "end_time": "2025-05-26T12:58:14.012572Z",
     "start_time": "2025-05-26T12:58:13.985819Z"
    }
   },
   "cell_type": "code",
   "source": "import pandas as pd",
   "id": "7cba6ef808f2bd2f",
   "outputs": [],
   "execution_count": 6
  },
  {
   "metadata": {
    "ExecuteTime": {
     "end_time": "2025-05-26T12:59:33.343830Z",
     "start_time": "2025-05-26T12:59:33.176214Z"
    }
   },
   "cell_type": "code",
   "source": "df=pd.read_csv('dataset/synthetic_logs.csv')",
   "id": "23b488661526513",
   "outputs": [],
   "execution_count": 9
  },
  {
   "metadata": {},
   "cell_type": "code",
   "outputs": [],
   "execution_count": null,
   "source": "",
   "id": "e5a246316c60cff5"
  }
 ],
 "metadata": {
  "kernelspec": {
   "display_name": "Python 3",
   "language": "python",
   "name": "python3"
  },
  "language_info": {
   "codemirror_mode": {
    "name": "ipython",
    "version": 2
   },
   "file_extension": ".py",
   "mimetype": "text/x-python",
   "name": "python",
   "nbconvert_exporter": "python",
   "pygments_lexer": "ipython2",
   "version": "2.7.6"
  }
 },
 "nbformat": 4,
 "nbformat_minor": 5
}
